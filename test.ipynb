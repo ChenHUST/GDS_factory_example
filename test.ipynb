{
 "cells": [
  {
   "cell_type": "code",
   "execution_count": 1,
   "metadata": {},
   "outputs": [
    {
     "name": "stderr",
     "output_type": "stream",
     "text": [
      "2022-06-06 11:19:00.828 | INFO     | gdsfactory.config:<module>:52 - Load 'd:\\\\Mambaforge\\\\Mambaforge_install\\\\lib\\\\site-packages\\\\gdsfactory' 5.8.1\n"
     ]
    },
    {
     "data": {
      "image/png": "[encoded data removed]",
      "text/plain": [
       "<Figure size 432x288 with 1 Axes>"
      ]
     },
     "metadata": {
      "needs_background": "light"
     },
     "output_type": "display_data"
    },
    {
     "data": {
      "text/html": [
       "my_fist_class: uid 0, ports [], aliases [], 1 polygons, 0 references"
      ],
      "text/plain": [
       "my_fist_class: uid 0, ports [], aliases [], 1 polygons, 0 references"
      ]
     },
     "execution_count": 1,
     "metadata": {},
     "output_type": "execute_result"
    }
   ],
   "source": [
    "import gdsfactory as gf\n",
    "\n",
    "gf.CONF.plotter = \"holoviews\"\n",
    "\n",
    "c = gf.Component(name=\"my_fist_class\")\n",
    "c.add_polygon([(-8, 6, 7, 9), (-6, 8, 17, 5)], layer=(1, 0))\n",
    "c\n",
    "c.ploth()"
   ]
  }
 ],
 "metadata": {
  "interpreter": {
   "hash": "17c8ba3b0016c98aadd29498f75f7a204413e51afd676b84a19c52f3b3c3cef1"
  },
  "kernelspec": {
   "display_name": "Python 3.9.10",
   "language": "python",
   "name": "python3"
  },
  "language_info": {
   "codemirror_mode": {
    "name": "ipython",
    "version": 3
   },
   "file_extension": ".py",
   "mimetype": "text/x-python",
   "name": "python",
   "nbconvert_exporter": "python",
   "pygments_lexer": "ipython3",
   "version": "3.9.10"
  },
  "orig_nbformat": 4
 },
 "nbformat": 4,
 "nbformat_minor": 2
}
