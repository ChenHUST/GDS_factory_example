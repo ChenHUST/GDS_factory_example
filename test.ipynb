{
 "cells": [
  {
   "cell_type": "code",
   "execution_count": 23,
   "metadata": {},
   "outputs": [],
   "source": [
    "from audioop import add, cross\n",
    "from base64 import standard_b64decode\n",
    "from cgitb import small\n",
    "from dis import dis\n",
    "from msilib.schema import Component\n",
    "from re import T\n",
    "from shutil import move\n",
    "from turtle import distance, pos, right, width\n",
    "from unicodedata import name\n",
    "from matplotlib import markers\n",
    "from matplotlib.pyplot import text\n",
    "import numpy as np\n",
    "import gdspy\n",
    "import gdsfactory as gf\n",
    "from phidl import Layer\n",
    "from picwriter import toolkit as tk\n",
    "from picwriter.components.waveguide import WaveguideTemplate, Waveguide\n",
    "import picwriter.components as pc\n",
    "from pyrsistent import s\n",
    "import sys\n",
    "\n",
    "pitch = 0.6887\n",
    "duty_cycle = 0.53522\n",
    "wg_cross_section = gf.CrossSection(\n",
    "    radius=50,\n",
    "    width=pitch*duty_cycle,\n",
    "    offset=0,\n",
    "    layer=gf.LAYER.WG,\n",
    "    cladding_layers=gf.LAYER.WGCLAD,\n",
    "    cladding_offsets=(3.0,),\n",
    "    name=\"wg\",\n",
    "    port_names=(\"o1\", \"o2\"),\n",
    ")\n",
    "wg_t = gf.components.straight(length=50, cross_section=wg_cross_section)\n",
    "gc_1 = gf.components.straight_array(n=10, spacing=pitch*(1-duty_cycle), straigth=wg_t)\n",
    "\n",
    "gc_1.show()\n"
   ]
  }
 ],
 "metadata": {
  "interpreter": {
   "hash": "17c8ba3b0016c98aadd29498f75f7a204413e51afd676b84a19c52f3b3c3cef1"
  },
  "kernelspec": {
   "display_name": "Python 3.9.10",
   "language": "python",
   "name": "python3"
  },
  "language_info": {
   "codemirror_mode": {
    "name": "ipython",
    "version": 3
   },
   "file_extension": ".py",
   "mimetype": "text/x-python",
   "name": "python",
   "nbconvert_exporter": "python",
   "pygments_lexer": "ipython3",
   "version": "3.9.10"
  },
  "orig_nbformat": 4
 },
 "nbformat": 4,
 "nbformat_minor": 2
}
