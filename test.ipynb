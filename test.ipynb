{
 "cells": [
  {
   "cell_type": "code",
   "execution_count": 110,
   "metadata": {},
   "outputs": [],
   "source": [
    "\"\"\"\n",
    "_summary_ \n",
    "主要使用gdsfactory定义PISL集成光子使用的device函数\n",
    "    主要使用package: gdsfactory, gdspy, picwriter\n",
    "    以后主要使用gdsfactory(功能最全)\n",
    "device函数说明:\n",
    "\n",
    "layer层定义:\n",
    "(0, 0)layer 结构定义层\n",
    "/*\n",
    " * @Author: wenyuchen\n",
    " * @Date: 2022-09-06 15:58:05 \n",
    " * @Last Modified by: mikey.zhaopeng\n",
    " * @Last Modified time: 2022-09-06 20:39:57\n",
    " */\n",
    "\"\"\"\n",
    "\n",
    "from audioop import add, cross\n",
    "from base64 import standard_b64decode\n",
    "from cgitb import small\n",
    "from dis import dis\n",
    "from msilib.schema import Component\n",
    "from operator import gt\n",
    "from re import T\n",
    "from shutil import move\n",
    "from turtle import distance, pos, right, width\n",
    "from unicodedata import name\n",
    "from matplotlib import markers\n",
    "from matplotlib.pyplot import text\n",
    "import numpy as np\n",
    "import gdspy\n",
    "import gdsfactory as gf\n",
    "from phidl import Layer\n",
    "from picwriter import toolkit as tk\n",
    "from picwriter.components.waveguide import WaveguideTemplate, Waveguide\n",
    "import picwriter.components as pc\n",
    "from pyrsistent import s\n",
    "import sys\n",
    "import PISL_PDK\n",
    "\n",
    "\n",
    "\n",
    "# test = test.extract(layers=[(0, 0), (66, 0), (10, 0)])\n",
    "# test.write_gds(\"test.gds\")\n"
   ]
  }
 ],
 "metadata": {
  "kernelspec": {
   "display_name": "Python 3.9.10",
   "language": "python",
   "name": "python3"
  },
  "language_info": {
   "codemirror_mode": {
    "name": "ipython",
    "version": 3
   },
   "file_extension": ".py",
   "mimetype": "text/x-python",
   "name": "python",
   "nbconvert_exporter": "python",
   "pygments_lexer": "ipython3",
   "version": "3.9.10"
  },
  "orig_nbformat": 4,
  "vscode": {
   "interpreter": {
    "hash": "17c8ba3b0016c98aadd29498f75f7a204413e51afd676b84a19c52f3b3c3cef1"
   }
  }
 },
 "nbformat": 4,
 "nbformat_minor": 2
}
