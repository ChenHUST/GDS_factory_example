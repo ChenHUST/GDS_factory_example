{
 "cells": [
  {
   "cell_type": "code",
   "execution_count": 13,
   "metadata": {},
   "outputs": [
    {
     "ename": "ValueError",
     "evalue": "Cannot apply {'width': 6.0} to a defined CrossSection",
     "output_type": "error",
     "traceback": [
      "\u001b[1;31m---------------------------------------------------------------------------\u001b[0m",
      "\u001b[1;31mValueError\u001b[0m                                Traceback (most recent call last)",
      "\u001b[1;32me:\\OneDrive - hust.edu.cn\\Doctor\\Simulation and Design\\Klayout\\GDS_factory_example\\test.ipynb Cell 1\u001b[0m in \u001b[0;36m<cell line: 53>\u001b[1;34m()\u001b[0m\n\u001b[0;32m     <a href='vscode-notebook-cell:/e%3A/OneDrive%20-%20hust.edu.cn/Doctor/Simulation%20and%20Design/Klayout/GDS_factory_example/test.ipynb#W0sZmlsZQ%3D%3D?line=38'>39</a>\u001b[0m \u001b[39mimport\u001b[39;00m \u001b[39mPISL_PDK\u001b[39;00m\n\u001b[0;32m     <a href='vscode-notebook-cell:/e%3A/OneDrive%20-%20hust.edu.cn/Doctor/Simulation%20and%20Design/Klayout/GDS_factory_example/test.ipynb#W0sZmlsZQ%3D%3D?line=40'>41</a>\u001b[0m wg_cross_section \u001b[39m=\u001b[39m gf\u001b[39m.\u001b[39mCrossSection(\n\u001b[0;32m     <a href='vscode-notebook-cell:/e%3A/OneDrive%20-%20hust.edu.cn/Doctor/Simulation%20and%20Design/Klayout/GDS_factory_example/test.ipynb#W0sZmlsZQ%3D%3D?line=41'>42</a>\u001b[0m     radius\u001b[39m=\u001b[39m\u001b[39m30\u001b[39m,\n\u001b[0;32m     <a href='vscode-notebook-cell:/e%3A/OneDrive%20-%20hust.edu.cn/Doctor/Simulation%20and%20Design/Klayout/GDS_factory_example/test.ipynb#W0sZmlsZQ%3D%3D?line=42'>43</a>\u001b[0m     width\u001b[39m=\u001b[39m\u001b[39m0.5\u001b[39m,\n\u001b[1;32m   (...)\u001b[0m\n\u001b[0;32m     <a href='vscode-notebook-cell:/e%3A/OneDrive%20-%20hust.edu.cn/Doctor/Simulation%20and%20Design/Klayout/GDS_factory_example/test.ipynb#W0sZmlsZQ%3D%3D?line=48'>49</a>\u001b[0m     port_names\u001b[39m=\u001b[39m(\u001b[39m\"\u001b[39m\u001b[39mo1\u001b[39m\u001b[39m\"\u001b[39m, \u001b[39m\"\u001b[39m\u001b[39mo2\u001b[39m\u001b[39m\"\u001b[39m),\n\u001b[0;32m     <a href='vscode-notebook-cell:/e%3A/OneDrive%20-%20hust.edu.cn/Doctor/Simulation%20and%20Design/Klayout/GDS_factory_example/test.ipynb#W0sZmlsZQ%3D%3D?line=49'>50</a>\u001b[0m )\n\u001b[1;32m---> <a href='vscode-notebook-cell:/e%3A/OneDrive%20-%20hust.edu.cn/Doctor/Simulation%20and%20Design/Klayout/GDS_factory_example/test.ipynb#W0sZmlsZQ%3D%3D?line=52'>53</a>\u001b[0m c \u001b[39m=\u001b[39m gf\u001b[39m.\u001b[39;49mcomponents\u001b[39m.\u001b[39;49mmmi2x2(\n\u001b[0;32m     <a href='vscode-notebook-cell:/e%3A/OneDrive%20-%20hust.edu.cn/Doctor/Simulation%20and%20Design/Klayout/GDS_factory_example/test.ipynb#W0sZmlsZQ%3D%3D?line=53'>54</a>\u001b[0m     width\u001b[39m=\u001b[39;49m\u001b[39m0.5\u001b[39;49m,\n\u001b[0;32m     <a href='vscode-notebook-cell:/e%3A/OneDrive%20-%20hust.edu.cn/Doctor/Simulation%20and%20Design/Klayout/GDS_factory_example/test.ipynb#W0sZmlsZQ%3D%3D?line=54'>55</a>\u001b[0m     width_taper\u001b[39m=\u001b[39;49m\u001b[39m1.1\u001b[39;49m,\n\u001b[0;32m     <a href='vscode-notebook-cell:/e%3A/OneDrive%20-%20hust.edu.cn/Doctor/Simulation%20and%20Design/Klayout/GDS_factory_example/test.ipynb#W0sZmlsZQ%3D%3D?line=55'>56</a>\u001b[0m     length_taper\u001b[39m=\u001b[39;49m\u001b[39m10.0\u001b[39;49m,\n\u001b[0;32m     <a href='vscode-notebook-cell:/e%3A/OneDrive%20-%20hust.edu.cn/Doctor/Simulation%20and%20Design/Klayout/GDS_factory_example/test.ipynb#W0sZmlsZQ%3D%3D?line=56'>57</a>\u001b[0m     length_mmi\u001b[39m=\u001b[39;49m\u001b[39m53.7\u001b[39;49m,\n\u001b[0;32m     <a href='vscode-notebook-cell:/e%3A/OneDrive%20-%20hust.edu.cn/Doctor/Simulation%20and%20Design/Klayout/GDS_factory_example/test.ipynb#W0sZmlsZQ%3D%3D?line=57'>58</a>\u001b[0m     width_mmi\u001b[39m=\u001b[39;49m\u001b[39m6\u001b[39;49m,\n\u001b[0;32m     <a href='vscode-notebook-cell:/e%3A/OneDrive%20-%20hust.edu.cn/Doctor/Simulation%20and%20Design/Klayout/GDS_factory_example/test.ipynb#W0sZmlsZQ%3D%3D?line=58'>59</a>\u001b[0m     gap_mmi\u001b[39m=\u001b[39;49m\u001b[39m0.9\u001b[39;49m,\n\u001b[0;32m     <a href='vscode-notebook-cell:/e%3A/OneDrive%20-%20hust.edu.cn/Doctor/Simulation%20and%20Design/Klayout/GDS_factory_example/test.ipynb#W0sZmlsZQ%3D%3D?line=59'>60</a>\u001b[0m     with_bbox\u001b[39m=\u001b[39;49m\u001b[39mTrue\u001b[39;49;00m,\n\u001b[0;32m     <a href='vscode-notebook-cell:/e%3A/OneDrive%20-%20hust.edu.cn/Doctor/Simulation%20and%20Design/Klayout/GDS_factory_example/test.ipynb#W0sZmlsZQ%3D%3D?line=60'>61</a>\u001b[0m     cross_section\u001b[39m=\u001b[39;49mwg_cross_section,\n\u001b[0;32m     <a href='vscode-notebook-cell:/e%3A/OneDrive%20-%20hust.edu.cn/Doctor/Simulation%20and%20Design/Klayout/GDS_factory_example/test.ipynb#W0sZmlsZQ%3D%3D?line=61'>62</a>\u001b[0m )\n\u001b[0;32m     <a href='vscode-notebook-cell:/e%3A/OneDrive%20-%20hust.edu.cn/Doctor/Simulation%20and%20Design/Klayout/GDS_factory_example/test.ipynb#W0sZmlsZQ%3D%3D?line=62'>63</a>\u001b[0m c\u001b[39m.\u001b[39mshow()\n",
      "File \u001b[1;32md:\\Mambaforge\\Mambaforge_install\\lib\\site-packages\\gdsfactory\\cell.py:152\u001b[0m, in \u001b[0;36mcell_without_validator.<locals>._cell\u001b[1;34m(*args, **kwargs)\u001b[0m\n\u001b[0;32m    147\u001b[0m \u001b[39mif\u001b[39;00m \u001b[39mnot\u001b[39;00m callable(func):\n\u001b[0;32m    148\u001b[0m     \u001b[39mraise\u001b[39;00m \u001b[39mValueError\u001b[39;00m(\n\u001b[0;32m    149\u001b[0m         \u001b[39mf\u001b[39m\u001b[39m\"\u001b[39m\u001b[39m{\u001b[39;00mfunc\u001b[39m!r}\u001b[39;00m\u001b[39m is not callable! @cell decorator is only for functions\u001b[39m\u001b[39m\"\u001b[39m\n\u001b[0;32m    150\u001b[0m     )\n\u001b[1;32m--> 152\u001b[0m component \u001b[39m=\u001b[39m func(\u001b[39m*\u001b[39margs, \u001b[39m*\u001b[39m\u001b[39m*\u001b[39mkwargs)\n\u001b[0;32m    154\u001b[0m \u001b[39m# if the component is already in the cache, but under a different alias,\u001b[39;00m\n\u001b[0;32m    155\u001b[0m \u001b[39m# make sure we use a copy, so we don't run into mutability errors\u001b[39;00m\n\u001b[0;32m    156\u001b[0m \u001b[39mif\u001b[39;00m \u001b[39mid\u001b[39m(component) \u001b[39min\u001b[39;00m [\u001b[39mid\u001b[39m(v) \u001b[39mfor\u001b[39;00m v \u001b[39min\u001b[39;00m CACHE\u001b[39m.\u001b[39mvalues()]:\n",
      "File \u001b[1;32md:\\Mambaforge\\Mambaforge_install\\lib\\site-packages\\pydantic\\decorator.py:40\u001b[0m, in \u001b[0;36mpydantic.decorator.validate_arguments.validate.wrapper_function\u001b[1;34m()\u001b[0m\n",
      "File \u001b[1;32md:\\Mambaforge\\Mambaforge_install\\lib\\site-packages\\pydantic\\decorator.py:134\u001b[0m, in \u001b[0;36mpydantic.decorator.ValidatedFunction.call\u001b[1;34m()\u001b[0m\n",
      "File \u001b[1;32md:\\Mambaforge\\Mambaforge_install\\lib\\site-packages\\pydantic\\decorator.py:201\u001b[0m, in \u001b[0;36mpydantic.decorator.ValidatedFunction.execute\u001b[1;34m()\u001b[0m\n",
      "File \u001b[1;32md:\\Mambaforge\\Mambaforge_install\\lib\\site-packages\\gdsfactory\\components\\mmi2x2.py:73\u001b[0m, in \u001b[0;36mmmi2x2\u001b[1;34m(width, width_taper, length_taper, length_mmi, width_mmi, gap_mmi, taper, straight, with_bbox, cross_section)\u001b[0m\n\u001b[0;32m     70\u001b[0m x \u001b[39m=\u001b[39m gf\u001b[39m.\u001b[39mget_cross_section(cross_section)\n\u001b[0;32m     72\u001b[0m a \u001b[39m=\u001b[39m gap_mmi \u001b[39m/\u001b[39m \u001b[39m2\u001b[39m \u001b[39m+\u001b[39m width_taper \u001b[39m/\u001b[39m \u001b[39m2\u001b[39m\n\u001b[1;32m---> 73\u001b[0m mmi \u001b[39m=\u001b[39m c \u001b[39m<<\u001b[39m gf\u001b[39m.\u001b[39;49mget_component(\n\u001b[0;32m     74\u001b[0m     straight, length\u001b[39m=\u001b[39;49mlength_mmi, width\u001b[39m=\u001b[39;49mw_mmi, cross_section\u001b[39m=\u001b[39;49mcross_section\n\u001b[0;32m     75\u001b[0m )\n\u001b[0;32m     77\u001b[0m ports \u001b[39m=\u001b[39m [\n\u001b[0;32m     78\u001b[0m     gf\u001b[39m.\u001b[39mPort(\n\u001b[0;32m     79\u001b[0m         \u001b[39m\"\u001b[39m\u001b[39mo1\u001b[39m\u001b[39m\"\u001b[39m, orientation\u001b[39m=\u001b[39m\u001b[39m180\u001b[39m, midpoint\u001b[39m=\u001b[39m(\u001b[39m0\u001b[39m, \u001b[39m-\u001b[39ma), width\u001b[39m=\u001b[39mw_taper, cross_section\u001b[39m=\u001b[39mx\n\u001b[1;32m   (...)\u001b[0m\n\u001b[0;32m     97\u001b[0m     ),\n\u001b[0;32m     98\u001b[0m ]\n\u001b[0;32m    100\u001b[0m \u001b[39mfor\u001b[39;00m port \u001b[39min\u001b[39;00m ports:\n",
      "File \u001b[1;32md:\\Mambaforge\\Mambaforge_install\\lib\\site-packages\\gdsfactory\\pdk.py:380\u001b[0m, in \u001b[0;36mget_component\u001b[1;34m(component, **kwargs)\u001b[0m\n\u001b[0;32m    379\u001b[0m \u001b[39mdef\u001b[39;00m \u001b[39mget_component\u001b[39m(component: ComponentSpec, \u001b[39m*\u001b[39m\u001b[39m*\u001b[39mkwargs) \u001b[39m-\u001b[39m\u001b[39m>\u001b[39m Component:\n\u001b[1;32m--> 380\u001b[0m     \u001b[39mreturn\u001b[39;00m _ACTIVE_PDK\u001b[39m.\u001b[39mget_component(component, \u001b[39m*\u001b[39m\u001b[39m*\u001b[39mkwargs)\n",
      "File \u001b[1;32md:\\Mambaforge\\Mambaforge_install\\lib\\site-packages\\gdsfactory\\pdk.py:234\u001b[0m, in \u001b[0;36mPdk.get_component\u001b[1;34m(self, component, **kwargs)\u001b[0m\n\u001b[0;32m    232\u001b[0m     \u001b[39mreturn\u001b[39;00m component\n\u001b[0;32m    233\u001b[0m \u001b[39melif\u001b[39;00m callable(component):\n\u001b[1;32m--> 234\u001b[0m     \u001b[39mreturn\u001b[39;00m component(\u001b[39m*\u001b[39m\u001b[39m*\u001b[39mkwargs)\n\u001b[0;32m    235\u001b[0m \u001b[39melif\u001b[39;00m \u001b[39misinstance\u001b[39m(component, \u001b[39mstr\u001b[39m):\n\u001b[0;32m    236\u001b[0m     \u001b[39mif\u001b[39;00m component \u001b[39mnot\u001b[39;00m \u001b[39min\u001b[39;00m cells_and_containers:\n",
      "File \u001b[1;32md:\\Mambaforge\\Mambaforge_install\\lib\\site-packages\\gdsfactory\\cell.py:152\u001b[0m, in \u001b[0;36mcell_without_validator.<locals>._cell\u001b[1;34m(*args, **kwargs)\u001b[0m\n\u001b[0;32m    147\u001b[0m \u001b[39mif\u001b[39;00m \u001b[39mnot\u001b[39;00m callable(func):\n\u001b[0;32m    148\u001b[0m     \u001b[39mraise\u001b[39;00m \u001b[39mValueError\u001b[39;00m(\n\u001b[0;32m    149\u001b[0m         \u001b[39mf\u001b[39m\u001b[39m\"\u001b[39m\u001b[39m{\u001b[39;00mfunc\u001b[39m!r}\u001b[39;00m\u001b[39m is not callable! @cell decorator is only for functions\u001b[39m\u001b[39m\"\u001b[39m\n\u001b[0;32m    150\u001b[0m     )\n\u001b[1;32m--> 152\u001b[0m component \u001b[39m=\u001b[39m func(\u001b[39m*\u001b[39margs, \u001b[39m*\u001b[39m\u001b[39m*\u001b[39mkwargs)\n\u001b[0;32m    154\u001b[0m \u001b[39m# if the component is already in the cache, but under a different alias,\u001b[39;00m\n\u001b[0;32m    155\u001b[0m \u001b[39m# make sure we use a copy, so we don't run into mutability errors\u001b[39;00m\n\u001b[0;32m    156\u001b[0m \u001b[39mif\u001b[39;00m \u001b[39mid\u001b[39m(component) \u001b[39min\u001b[39;00m [\u001b[39mid\u001b[39m(v) \u001b[39mfor\u001b[39;00m v \u001b[39min\u001b[39;00m CACHE\u001b[39m.\u001b[39mvalues()]:\n",
      "File \u001b[1;32md:\\Mambaforge\\Mambaforge_install\\lib\\site-packages\\pydantic\\decorator.py:40\u001b[0m, in \u001b[0;36mpydantic.decorator.validate_arguments.validate.wrapper_function\u001b[1;34m()\u001b[0m\n",
      "File \u001b[1;32md:\\Mambaforge\\Mambaforge_install\\lib\\site-packages\\pydantic\\decorator.py:134\u001b[0m, in \u001b[0;36mpydantic.decorator.ValidatedFunction.call\u001b[1;34m()\u001b[0m\n",
      "File \u001b[1;32md:\\Mambaforge\\Mambaforge_install\\lib\\site-packages\\pydantic\\decorator.py:201\u001b[0m, in \u001b[0;36mpydantic.decorator.ValidatedFunction.execute\u001b[1;34m()\u001b[0m\n",
      "File \u001b[1;32md:\\Mambaforge\\Mambaforge_install\\lib\\site-packages\\gdsfactory\\components\\straight.py:34\u001b[0m, in \u001b[0;36mstraight\u001b[1;34m(length, npoints, with_bbox, cross_section, **kwargs)\u001b[0m\n\u001b[0;32m     32\u001b[0m length \u001b[39m=\u001b[39m snap_to_grid(length)\n\u001b[0;32m     33\u001b[0m p \u001b[39m=\u001b[39m gf\u001b[39m.\u001b[39mpath\u001b[39m.\u001b[39mstraight(length\u001b[39m=\u001b[39mlength, npoints\u001b[39m=\u001b[39mnpoints)\n\u001b[1;32m---> 34\u001b[0m x \u001b[39m=\u001b[39m gf\u001b[39m.\u001b[39mget_cross_section(cross_section, \u001b[39m*\u001b[39m\u001b[39m*\u001b[39mkwargs)\n\u001b[0;32m     36\u001b[0m c \u001b[39m=\u001b[39m Component()\n\u001b[0;32m     37\u001b[0m path \u001b[39m=\u001b[39m gf\u001b[39m.\u001b[39mpath\u001b[39m.\u001b[39mextrude(p, x)\n",
      "File \u001b[1;32md:\\Mambaforge\\Mambaforge_install\\lib\\site-packages\\gdsfactory\\pdk.py:388\u001b[0m, in \u001b[0;36mget_cross_section\u001b[1;34m(cross_section, **kwargs)\u001b[0m\n\u001b[0;32m    387\u001b[0m \u001b[39mdef\u001b[39;00m \u001b[39mget_cross_section\u001b[39m(cross_section: CrossSectionSpec, \u001b[39m*\u001b[39m\u001b[39m*\u001b[39mkwargs) \u001b[39m-\u001b[39m\u001b[39m>\u001b[39m CrossSection:\n\u001b[1;32m--> 388\u001b[0m     \u001b[39mreturn\u001b[39;00m _ACTIVE_PDK\u001b[39m.\u001b[39mget_cross_section(cross_section, \u001b[39m*\u001b[39m\u001b[39m*\u001b[39mkwargs)\n",
      "File \u001b[1;32md:\\Mambaforge\\Mambaforge_install\\lib\\site-packages\\gdsfactory\\pdk.py:291\u001b[0m, in \u001b[0;36mPdk.get_cross_section\u001b[1;34m(self, cross_section, **kwargs)\u001b[0m\n\u001b[0;32m    289\u001b[0m \u001b[39mif\u001b[39;00m \u001b[39misinstance\u001b[39m(cross_section, CrossSection):\n\u001b[0;32m    290\u001b[0m     \u001b[39mif\u001b[39;00m kwargs:\n\u001b[1;32m--> 291\u001b[0m         \u001b[39mraise\u001b[39;00m \u001b[39mValueError\u001b[39;00m(\u001b[39mf\u001b[39m\u001b[39m\"\u001b[39m\u001b[39mCannot apply \u001b[39m\u001b[39m{\u001b[39;00mkwargs\u001b[39m}\u001b[39;00m\u001b[39m to a defined CrossSection\u001b[39m\u001b[39m\"\u001b[39m)\n\u001b[0;32m    292\u001b[0m     \u001b[39mreturn\u001b[39;00m cross_section\n\u001b[0;32m    293\u001b[0m \u001b[39melif\u001b[39;00m callable(cross_section):\n",
      "\u001b[1;31mValueError\u001b[0m: Cannot apply {'width': 6.0} to a defined CrossSection"
     ]
    }
   ],
   "source": [
    "\"\"\"\n",
    "_summary_ \n",
    "主要使用gdsfactory定义PISL集成光子使用的device函数\n",
    "    主要使用package: gdsfactory, gdspy, picwriter\n",
    "    以后主要使用gdsfactory(功能最全)\n",
    "device函数说明:\n",
    "\n",
    "layer层定义:\n",
    "(0, 0)layer 结构定义层\n",
    "/*\n",
    " * @Author: wenyuchen\n",
    " * @Date: 2022-09-06 15:58:05 \n",
    " * @Last Modified by: mikey.zhaopeng\n",
    " * @Last Modified time: 2022-09-06 20:39:57\n",
    " */\n",
    "\"\"\"\n",
    "\n",
    "from audioop import add, cross\n",
    "from base64 import standard_b64decode\n",
    "from cgitb import small\n",
    "from dis import dis\n",
    "from msilib.schema import Component\n",
    "from operator import gt\n",
    "from re import T\n",
    "from shutil import move\n",
    "from turtle import distance, pos, right, width\n",
    "from unicodedata import name\n",
    "from matplotlib import markers\n",
    "from matplotlib.pyplot import text\n",
    "import numpy as np\n",
    "import gdspy\n",
    "import gdsfactory as gf\n",
    "from phidl import Layer\n",
    "from picwriter import toolkit as tk\n",
    "from picwriter.components.waveguide import WaveguideTemplate, Waveguide\n",
    "import picwriter.components as pc\n",
    "from pyrsistent import s\n",
    "import sys\n",
    "import PISL_PDK\n",
    "\n",
    "wg_cross_section = gf.CrossSection(\n",
    "    radius=30,\n",
    "    width=0.5,\n",
    "    offset=0,\n",
    "    layer=gf.LAYER.WG,\n",
    "    cladding_layers=gf.LAYER.WGCLAD,\n",
    "    cladding_offsets=(3.0,),\n",
    "    name=\"wg\",\n",
    "    port_names=(\"o1\", \"o2\"),\n",
    ")\n",
    "\n",
    "\n",
    "c = gf.components.mmi2x2(\n",
    "    width=0.5,\n",
    "    width_taper=1.1,\n",
    "    length_taper=10.0,\n",
    "    length_mmi=53.7,\n",
    "    width_mmi=6,\n",
    "    gap_mmi=0.9,\n",
    "    with_bbox=True,\n",
    "    cross_section=wg_cross_section,\n",
    ")\n",
    "c.show()\n"
   ]
  }
 ],
 "metadata": {
  "kernelspec": {
   "display_name": "Python 3.9.10",
   "language": "python",
   "name": "python3"
  },
  "language_info": {
   "codemirror_mode": {
    "name": "ipython",
    "version": 3
   },
   "file_extension": ".py",
   "mimetype": "text/x-python",
   "name": "python",
   "nbconvert_exporter": "python",
   "pygments_lexer": "ipython3",
   "version": "3.9.10"
  },
  "orig_nbformat": 4,
  "vscode": {
   "interpreter": {
    "hash": "17c8ba3b0016c98aadd29498f75f7a204413e51afd676b84a19c52f3b3c3cef1"
   }
  }
 },
 "nbformat": 4,
 "nbformat_minor": 2
}
